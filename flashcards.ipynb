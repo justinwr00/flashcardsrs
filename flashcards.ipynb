{
 "cells": [
  {
   "cell_type": "code",
   "execution_count": 10,
   "metadata": {},
   "outputs": [],
   "source": [
    "import sqlite3\n",
    "from datetime import datetime"
   ]
  },
  {
   "cell_type": "code",
   "execution_count": 11,
   "metadata": {},
   "outputs": [],
   "source": [
    "# Connect to SQLite database (or create it if it doesn't exist)\n",
    "conn = sqlite3.connect('customers.db')\n",
    "\n",
    "# Create a cursor object to execute SQL commands\n",
    "cursor = conn.cursor()"
   ]
  },
  {
   "cell_type": "code",
   "execution_count": 12,
   "metadata": {},
   "outputs": [
    {
     "data": {
      "text/plain": [
       "<sqlite3.Cursor at 0x79133c658b40>"
      ]
     },
     "execution_count": 12,
     "metadata": {},
     "output_type": "execute_result"
    }
   ],
   "source": [
    "# Create a table to store customer information if it doesn't exist already\n",
    "cursor.execute('''\n",
    "CREATE TABLE IF NOT EXISTS customers (\n",
    "    id INTEGER PRIMARY KEY AUTOINCREMENT,\n",
    "    first_name TEXT NOT NULL,\n",
    "    last_name TEXT NOT NULL,\n",
    "    age INTEGER NOT NULL,\n",
    "    created_at TEXT NOT NULL\n",
    ")\n",
    "''')"
   ]
  },
  {
   "cell_type": "code",
   "execution_count": 13,
   "metadata": {},
   "outputs": [],
   "source": [
    "# Function to insert a customer record with a datetime stamp\n",
    "def insert_customer(first_name, last_name, age, dateOfRecord):\n",
    "    current_time = datetime.now().strftime('%Y-%m-%d %H:%M:%S')  # Get current date and time\n",
    "    cursor.execute('''\n",
    "    INSERT INTO customers (first_name, last_name, age, created_at)\n",
    "    VALUES (?, ?, ?, ?)\n",
    "    ''', (first_name, last_name, age, current_time))\n",
    "    conn.commit()"
   ]
  },
  {
   "cell_type": "code",
   "execution_count": 14,
   "metadata": {},
   "outputs": [],
   "source": [
    "insert_customer('Justin', 'Wright', 43, '1981-09-19 02:45:12')"
   ]
  },
  {
   "cell_type": "code",
   "execution_count": 15,
   "metadata": {},
   "outputs": [
    {
     "name": "stdout",
     "output_type": "stream",
     "text": [
      "\n",
      "Customer Records in Database:\n",
      "(1, 'Justin', 'Wright', 43, '2024-09-25 15:21:04')\n"
     ]
    }
   ],
   "source": [
    "\n",
    "# Optionally, fetch and display the records to confirm they were added\n",
    "cursor.execute('SELECT * FROM customers')\n",
    "rows = cursor.fetchall()\n",
    "\n",
    "print(\"\\nCustomer Records in Database:\")\n",
    "for row in rows:\n",
    "    print(row)\n",
    "\n",
    "# Close the connection to the database\n",
    "conn.close()\n"
   ]
  }
 ],
 "metadata": {
  "kernelspec": {
   "display_name": "Python 3",
   "language": "python",
   "name": "python3"
  },
  "language_info": {
   "codemirror_mode": {
    "name": "ipython",
    "version": 3
   },
   "file_extension": ".py",
   "mimetype": "text/x-python",
   "name": "python",
   "nbconvert_exporter": "python",
   "pygments_lexer": "ipython3",
   "version": "3.12.1"
  }
 },
 "nbformat": 4,
 "nbformat_minor": 2
}
